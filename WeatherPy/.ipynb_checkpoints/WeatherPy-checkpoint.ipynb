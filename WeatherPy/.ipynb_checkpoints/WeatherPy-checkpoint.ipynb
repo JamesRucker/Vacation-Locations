{
 "cells": [
  {
   "cell_type": "markdown",
   "metadata": {},
   "source": [
    "# WeatherPy\n",
    "----\n",
    "\n",
    "#### Note\n",
    "* Instructions have been included for each segment. You do not have to follow them exactly, but they are included to help you think through the steps."
   ]
  },
  {
   "cell_type": "code",
   "execution_count": 17,
   "metadata": {
    "scrolled": true
   },
   "outputs": [],
   "source": [
    "# Dependencies and Setup\n",
    "import matplotlib.pyplot as plt\n",
    "import pandas as pd\n",
    "import numpy as np\n",
    "import requests\n",
    "import time\n",
    "from scipy.stats import linregress\n",
    "from datetime import datetime\n",
    "from pprint import pprint\n",
    "\n",
    "# Import API key\n",
    "from api_keys import weather_api_key\n",
    "\n",
    "# Incorporated citipy to determine city based on latitude and longitude\n",
    "from citipy import citipy\n",
    "\n",
    "# Output File (CSV)\n",
    "output_data_file = \"output_data/cities.csv\"\n",
    "\n",
    "# If running code from previous CSV output (possible to avoid pinging API too many times), uncomment the second line.\n",
    "run_api = True\n",
    "run_api = False\n",
    "\n",
    "# Range of latitudes and longitudes\n",
    "lat_range = (-90, 90)\n",
    "lng_range = (-180, 180)"
   ]
  },
  {
   "cell_type": "markdown",
   "metadata": {},
   "source": [
    "## Generate Cities List"
   ]
  },
  {
   "cell_type": "code",
   "execution_count": 18,
   "metadata": {},
   "outputs": [],
   "source": [
    "#If running api, run below code. Otherwise, skip whole cell.\n",
    "if run_api:\n",
    "\n",
    "    # While loop ensures that the list of cities is always at least 500 unique cities. Defaults to true until code breaks.\n",
    "    while True:\n",
    "        # List for holding lat_lngs and cities\n",
    "        lat_lngs = []\n",
    "        cities = []\n",
    "\n",
    "        # Create a set of random lat and lng combinations\n",
    "        lats = np.random.uniform(lat_range[0], lat_range[1], size=1500)\n",
    "        lngs = np.random.uniform(lng_range[0], lng_range[1], size=1500)\n",
    "        lat_lngs = zip(lats, lngs)\n",
    "\n",
    "        # Identify nearest city for each lat, lng combination\n",
    "        for lat_lng in lat_lngs:\n",
    "            city = citipy.nearest_city(lat_lng[0], lat_lng[1]).city_name\n",
    "    \n",
    "            # If the city is unique, then add it to a our cities list\n",
    "            if city not in cities:\n",
    "                cities.append(city)\n",
    "\n",
    "        # If statement confirms city count is sufficient, otherwise the loop is rerun.\n",
    "        if len(cities) >= 500:\n",
    "            print(f\"There were {len(cities)} unique cities in the list.\")\n",
    "            break\n",
    "        else:\n",
    "            print(f\"There were only {len(cities)} unique cities in the list. Rerunning list.\")\n",
    "        "
   ]
  },
  {
   "cell_type": "markdown",
   "metadata": {},
   "source": [
    "### Perform API Calls\n",
    "* Perform a weather check on each city using a series of successive API calls.\n",
    "* Include a print log of each city as it'sbeing processed (with the city number and city name).\n"
   ]
  },
  {
   "cell_type": "code",
   "execution_count": 19,
   "metadata": {},
   "outputs": [],
   "source": [
    "#If running api, run below code. Otherwise, skip whole cell.\n",
    "if run_api:\n",
    "\n",
    "    # Perform API calls and print log of each city as calls are being made.\n",
    "\n",
    "    # Set base url and initialize counting number.  Full url will follow that of the one below from API doc.\n",
    "    #      api.openweathermap.org/data/2.5/weather?q={city name}&appid={your api key}\n",
    "    base_url = \"http://api.openweathermap.org/data/2.5/weather\"\n",
    "    counted_cities = 0\n",
    "\n",
    "    # Initialize empty lists for relevant values.\n",
    "    city_list = []\n",
    "    lat_list = []\n",
    "    lng_list = []\n",
    "    max_temp_list = []\n",
    "    humidity_list = []\n",
    "    cloudiness_list = []\n",
    "    wind_speed_list = []\n",
    "    country_list = []\n",
    "    date_list = []\n",
    "\n",
    "\n",
    "    # Print for human eyes\n",
    "    print(\"Beginning Data Retrieval\")\n",
    "    print(\"--------------------------------------\")\n",
    "\n",
    "\n",
    "    # for loop runs through all cities in cities array.\n",
    "\n",
    "    for city in cities:\n",
    "\n",
    "        # try ensures that even if city is not in database, the loop continues.\n",
    "        # query_url is the url to grab data from api.  Response is where that data is stored.\n",
    "        try:\n",
    "            query_url = f\"{base_url}?q={city}&appid={weather_api_key}\"\n",
    "            response = requests.get(query_url).json()\n",
    "        \n",
    "            # All list appends append relevant data to relevant list.\n",
    "            city_list.append(response[\"name\"])\n",
    "            lat_list.append(response[\"coord\"][\"lat\"])\n",
    "            lng_list.append(response[\"coord\"][\"lon\"])\n",
    "            max_temp_list.append(response[\"main\"][\"temp_max\"])\n",
    "            humidity_list.append(response[\"main\"][\"humidity\"])\n",
    "            cloudiness_list.append(response[\"clouds\"][\"all\"])\n",
    "            wind_speed_list.append(response[\"wind\"][\"speed\"])\n",
    "            country_list.append(response[\"sys\"][\"country\"])\n",
    "            date_list.append(response[\"dt\"])\n",
    "        \n",
    "            # Counted cities is a variable solely for the human that must waste as a guideline for how many cities remain.\n",
    "            # Print the number of cities counted and the name of the city counted.\n",
    "            counted_cities += 1\n",
    "            print(f\"Processing Record {counted_cities} | {city}\")\n",
    "    \n",
    "        # If try fails, the except is triggered and the message states simply that the city is not found, then skips it.\n",
    "        except:\n",
    "            print(f\"City not found.  Skipping the city {city}\")"
   ]
  },
  {
   "cell_type": "markdown",
   "metadata": {},
   "source": [
    "### Convert Raw Data to DataFrame\n",
    "* Export the city data into a .csv.\n",
    "* Display the DataFrame"
   ]
  },
  {
   "cell_type": "code",
   "execution_count": 20,
   "metadata": {},
   "outputs": [],
   "source": [
    "#If running api, run below code.\n",
    "if run_api:\n",
    "    \n",
    "    # Converting arrays to a dataframe\n",
    "    weather_df = pd.DataFrame({\"City\" : city_list,\n",
    "                               \"Latitude\" : lat_list,\n",
    "                               \"Longitude\" : lng_list,\n",
    "                               \"Maximum Temperature (\\u00B0F)\" : max_temp_list,\n",
    "                               \"Humidity (%)\" : humidity_list,\n",
    "                               \"Cloudiness (%)\" : cloudiness_list,\n",
    "                               \"Wind Speed (mph)\" : wind_speed_list,\n",
    "                               \"Country\" : country_list,\n",
    "                               \"Date\" : date_list\n",
    "                              }\n",
    "                             )\n",
    "    \n",
    "    # Convert the temperature in Kelvin to degrees Farenheit.\n",
    "    weather_df[\"Maximum Temperature (\\u00B0F)\"] = weather_df[\"Maximum Temperature (\\u00B0F)\"]*9/5-459.67\n",
    "    \n",
    "    # Exports dataframe to CSV file.\n",
    "    weather_df.to_csv(output_data_file, index=False)\n",
    "\n",
    "# If not running api, converts previous csv outout to weather dataframe.\n",
    "else:\n",
    "    weather_df = pd.read_csv(output_data_file)"
   ]
  },
  {
   "cell_type": "code",
   "execution_count": 21,
   "metadata": {
    "scrolled": true
   },
   "outputs": [
    {
     "data": {
      "text/html": [
       "<div>\n",
       "<style scoped>\n",
       "    .dataframe tbody tr th:only-of-type {\n",
       "        vertical-align: middle;\n",
       "    }\n",
       "\n",
       "    .dataframe tbody tr th {\n",
       "        vertical-align: top;\n",
       "    }\n",
       "\n",
       "    .dataframe thead th {\n",
       "        text-align: right;\n",
       "    }\n",
       "</style>\n",
       "<table border=\"1\" class=\"dataframe\">\n",
       "  <thead>\n",
       "    <tr style=\"text-align: right;\">\n",
       "      <th></th>\n",
       "      <th>City</th>\n",
       "      <th>Latitude</th>\n",
       "      <th>Longitude</th>\n",
       "      <th>Maximum Temperature (°F)</th>\n",
       "      <th>Humidity (%)</th>\n",
       "      <th>Cloudiness (%)</th>\n",
       "      <th>Wind Speed (mph)</th>\n",
       "      <th>Country</th>\n",
       "      <th>Date</th>\n",
       "    </tr>\n",
       "  </thead>\n",
       "  <tbody>\n",
       "    <tr>\n",
       "      <th>0</th>\n",
       "      <td>Narsaq</td>\n",
       "      <td>60.92</td>\n",
       "      <td>-46.05</td>\n",
       "      <td>60.800</td>\n",
       "      <td>38</td>\n",
       "      <td>16</td>\n",
       "      <td>3.10</td>\n",
       "      <td>GL</td>\n",
       "      <td>1970-01-01 00:00:01.595197418+00:00</td>\n",
       "    </tr>\n",
       "    <tr>\n",
       "      <th>1</th>\n",
       "      <td>Dikson</td>\n",
       "      <td>73.51</td>\n",
       "      <td>80.55</td>\n",
       "      <td>40.478</td>\n",
       "      <td>98</td>\n",
       "      <td>100</td>\n",
       "      <td>6.34</td>\n",
       "      <td>RU</td>\n",
       "      <td>1970-01-01 00:00:01.595197386+00:00</td>\n",
       "    </tr>\n",
       "    <tr>\n",
       "      <th>2</th>\n",
       "      <td>Ponoka</td>\n",
       "      <td>52.68</td>\n",
       "      <td>-113.58</td>\n",
       "      <td>64.004</td>\n",
       "      <td>87</td>\n",
       "      <td>75</td>\n",
       "      <td>2.10</td>\n",
       "      <td>CA</td>\n",
       "      <td>1970-01-01 00:00:01.595197516+00:00</td>\n",
       "    </tr>\n",
       "    <tr>\n",
       "      <th>3</th>\n",
       "      <td>Punta Arenas</td>\n",
       "      <td>-53.15</td>\n",
       "      <td>-70.92</td>\n",
       "      <td>35.600</td>\n",
       "      <td>69</td>\n",
       "      <td>75</td>\n",
       "      <td>3.10</td>\n",
       "      <td>CL</td>\n",
       "      <td>1970-01-01 00:00:01.595197243+00:00</td>\n",
       "    </tr>\n",
       "    <tr>\n",
       "      <th>4</th>\n",
       "      <td>Tasiilaq</td>\n",
       "      <td>65.61</td>\n",
       "      <td>-37.64</td>\n",
       "      <td>50.000</td>\n",
       "      <td>76</td>\n",
       "      <td>0</td>\n",
       "      <td>4.10</td>\n",
       "      <td>GL</td>\n",
       "      <td>1970-01-01 00:00:01.595197375+00:00</td>\n",
       "    </tr>\n",
       "  </tbody>\n",
       "</table>\n",
       "</div>"
      ],
      "text/plain": [
       "           City  Latitude  Longitude  Maximum Temperature (°F)  Humidity (%)  \\\n",
       "0        Narsaq     60.92     -46.05                    60.800            38   \n",
       "1        Dikson     73.51      80.55                    40.478            98   \n",
       "2        Ponoka     52.68    -113.58                    64.004            87   \n",
       "3  Punta Arenas    -53.15     -70.92                    35.600            69   \n",
       "4      Tasiilaq     65.61     -37.64                    50.000            76   \n",
       "\n",
       "   Cloudiness (%)  Wind Speed (mph) Country  \\\n",
       "0              16              3.10      GL   \n",
       "1             100              6.34      RU   \n",
       "2              75              2.10      CA   \n",
       "3              75              3.10      CL   \n",
       "4               0              4.10      GL   \n",
       "\n",
       "                                  Date  \n",
       "0  1970-01-01 00:00:01.595197418+00:00  \n",
       "1  1970-01-01 00:00:01.595197386+00:00  \n",
       "2  1970-01-01 00:00:01.595197516+00:00  \n",
       "3  1970-01-01 00:00:01.595197243+00:00  \n",
       "4  1970-01-01 00:00:01.595197375+00:00  "
      ]
     },
     "execution_count": 21,
     "metadata": {},
     "output_type": "execute_result"
    }
   ],
   "source": [
    "# Outputs dataframe\n",
    "weather_df.head()"
   ]
  },
  {
   "cell_type": "markdown",
   "metadata": {},
   "source": [
    "## Inspect the data and remove the cities where the humidity > 100%.\n",
    "----\n",
    "Skip this step if there are no cities that have humidity > 100%. "
   ]
  },
  {
   "cell_type": "code",
   "execution_count": 22,
   "metadata": {},
   "outputs": [],
   "source": [
    "# Max humidity is checked.  If less than or equal to 100, the dataset is simply renamed.\n",
    "if weather_df[\"Humidity (%)\"].max()<=100:\n",
    "    clean_city_data = weather_df\n",
    "\n",
    "# If max humidity is greater than 100, then at least one humidity value is greater than 100.\n",
    "else:\n",
    "    #  Get the indices of cities that have humidity over 100%.\n",
    "    too_humid_city_indices = weather_df.loc[weather_df[\"Humidity\"] > 100].index.values.tolist()\n",
    "    \n",
    "    # Drop all indices that correspond with too high humidity to create a clean dataframe.\n",
    "    clean_city_data = weather_df.drop(too_humid_city_indices)\n",
    "    \n",
    "    # Export the clean city data into a csv.\n",
    "    clean_city_data.to_csv(output_data_file, index=False)      "
   ]
  },
  {
   "cell_type": "markdown",
   "metadata": {},
   "source": [
    "## Plotting the Data\n",
    "* Use proper labeling of the plots using plot titles (including date of analysis) and axes labels.\n",
    "* Save the plotted figures as .pngs."
   ]
  },
  {
   "cell_type": "code",
   "execution_count": 32,
   "metadata": {},
   "outputs": [],
   "source": [
    "# OPTIONAL: Create a function to create Linear Regression plots\n",
    "# Because it further streamlines the code, I decided to also create a function for the scatter plots.\n",
    "\n",
    "# A function that creates the scatter plots.\n",
    "def make_scatter_plots(x_values, y_values, hemisphere):\n",
    "    \n",
    "    # Ensures the correct dataframe is being used.\n",
    "    if hemisphere == \"both\":\n",
    "        df = clean_city_data\n",
    "    elif hemisphere == \"Northern\":\n",
    "        df = northern_city_clean_df\n",
    "    else:\n",
    "        df = southern_city_clean_df\n",
    "    \n",
    "    # Extracts the x and y values to be examined from the clean city dataframe.\n",
    "    x = df[x_values]\n",
    "    y = df[y_values]\n",
    "\n",
    "    # Labels, titles, and scatter plot is made.\n",
    "    plt.xlabel(x_values)\n",
    "    plt.ylabel(y_values)\n",
    "    plt.title(f\"{x_values} by {y_values} on ({datetime.today().strftime('%Y/%m/%d')})\")\n",
    "    plt.scatter(x,y)\n",
    "\n",
    "# A function that runs the linear regression.\n",
    "def lin_regress(x_values, y_values, hemisphere):\n",
    "    \n",
    "    # Creates the scatter plot onto which the linear regression will be mapped.\n",
    "    make_scatter_plots(x_values, y_values, hemisphere)\n",
    "\n",
    "    # Ensures the correct dataframe is being used.\n",
    "    if hemisphere == \"both\":\n",
    "        df = clean_city_data\n",
    "    elif hemisphere == \"Northern\":\n",
    "        df = northern_city_clean_df\n",
    "    else:\n",
    "        df = southern_city_clean_df\n",
    "    \n",
    "    # Extracts the x and y values to be examined from the dataframe remembered from running scatter plot.\n",
    "    x = df[x_values]\n",
    "    y = df[y_values]\n",
    "    \n",
    "    # Run linear regression\n",
    "    slope, intercept, r_value, p_value, std_err = linregress(x, y)\n",
    "    plt.plot(x, intercept + slope*x, 'r')\n",
    "    r_out = r_value.round(decimals=2)\n",
    "    \n",
    "    # Change plot title\n",
    "    plt.title(f\"{x_values} by {y_values} in {hemisphere} hemisphere on ({datetime.today().strftime('%Y/%m/%d')})\")\n",
    "    \n",
    "    return(f\"The Pearson correlation coefficient for the above linear regression is {r_out}\")"
   ]
  },
  {
   "cell_type": "markdown",
   "metadata": {},
   "source": [
    "## Latitude vs. Temperature Plot"
   ]
  },
  {
   "cell_type": "code",
   "execution_count": 24,
   "metadata": {
    "scrolled": true
   },
   "outputs": [
    {
     "data": {
      "image/png": "[encoded data removed]",
      "text/plain": [
       "<Figure size 432x288 with 1 Axes>"
      ]
     },
     "metadata": {
      "needs_background": "light"
     },
     "output_type": "display_data"
    },
    {
     "name": "stdout",
     "output_type": "stream",
     "text": [
      "This code tracks the maximum temperature measured in a day at over 500 random locations, and the location's \n",
      "latitude. The above chart shows that temperature increases until some latitude is reached, at which point the \n",
      "temperature drops with a change in latitude.  This is consistent with the Earth as a sphere floating in space \n",
      "recieving energy from the sun.\n"
     ]
    }
   ],
   "source": [
    "# The values being compared are saved as the string titles of the relevant columns of the dataframe so only 2 substitutions \n",
    "#    need to be made for any given graph.\n",
    "x_values = \"Latitude\"\n",
    "y_values = \"Maximum Temperature (\\u00B0F)\"\n",
    "hemisphere = \"both\"\n",
    "\n",
    "# Makes scatter plot using function.\n",
    "make_scatter_plots(x_values, y_values, hemisphere)\n",
    "\n",
    "\n",
    "# Analysis is written\n",
    "analysis = \"This code tracks the maximum temperature measured in a day at over 500 random locations, and the location's \\n\"\n",
    "analysis += \"latitude. The above chart shows that temperature increases until some latitude is reached, at which point the \\n\"\n",
    "analysis += \"temperature drops with a change in latitude.  This is consistent with the Earth as a sphere floating in space \\n\"\n",
    "analysis += \"recieving energy from the sun.\"\n",
    "\n",
    "# All outputs are output.\n",
    "plt.show()\n",
    "print(analysis)\n"
   ]
  },
  {
   "cell_type": "markdown",
   "metadata": {},
   "source": [
    "## Latitude vs. Humidity Plot"
   ]
  },
  {
   "cell_type": "code",
   "execution_count": 25,
   "metadata": {},
   "outputs": [
    {
     "data": {
      "image/png": "[encoded data removed]",
      "text/plain": [
       "<Figure size 432x288 with 1 Axes>"
      ]
     },
     "metadata": {
      "needs_background": "light"
     },
     "output_type": "display_data"
    },
    {
     "name": "stdout",
     "output_type": "stream",
     "text": [
      "This code tracks the humidity measured in a day at over 500 random locations, and the location's latitude. \n",
      "Note that the humidity tends to be quite high regardless of the altitude.  This is probably selection bias, \n",
      "as the code tracks by cities and most people will build near a source of water, leading to higher humidity \n",
      "at measured locations.\n"
     ]
    }
   ],
   "source": [
    "# The values being compared are saved as the string titles of the relevant columns of the dataframe so only 2 substitutions \n",
    "#    need to be made for any given graph.\n",
    "x_values = \"Latitude\"\n",
    "y_values = \"Humidity (%)\"\n",
    "hemisphere = \"both\"\n",
    "\n",
    "# Makes scatter plot using function.\n",
    "make_scatter_plots(x_values, y_values, hemisphere)\n",
    "\n",
    "# Analysis is written\n",
    "analysis = \"This code tracks the humidity measured in a day at over 500 random locations, and the location's latitude. \\n\"\n",
    "analysis += \"Note that the humidity tends to be quite high regardless of the altitude.  This is probably selection bias, \\n\"\n",
    "analysis += \"as the code tracks by cities and most people will build near a source of water, leading to higher humidity \\n\"\n",
    "analysis += \"at measured locations.\"\n",
    "\n",
    "# All outputs are output.\n",
    "plt.show()\n",
    "print(analysis)"
   ]
  },
  {
   "cell_type": "markdown",
   "metadata": {},
   "source": [
    "## Latitude vs. Cloudiness Plot"
   ]
  },
  {
   "cell_type": "code",
   "execution_count": 26,
   "metadata": {},
   "outputs": [
    {
     "data": {
      "image/png": "[encoded data removed]",
      "text/plain": [
       "<Figure size 432x288 with 1 Axes>"
      ]
     },
     "metadata": {
      "needs_background": "light"
     },
     "output_type": "display_data"
    },
    {
     "name": "stdout",
     "output_type": "stream",
     "text": [
      "This code tracks the cloudiness as a percentage measured in a day at over 500 random locations, and the \n",
      "location's latitude. This data is fairly random, and not much of value can be gotten from this particular graph.\n"
     ]
    }
   ],
   "source": [
    "# The values being compared are saved as the string titles of the relevant columns of the dataframe so only 2 substitutions \n",
    "#    need to be made for any given graph.\n",
    "x_values = \"Latitude\"\n",
    "y_values = \"Cloudiness (%)\"\n",
    "hemisphere = \"both\"\n",
    "\n",
    "# Makes scatter plot using function.\n",
    "make_scatter_plots(x_values, y_values, hemisphere)\n",
    "\n",
    "\n",
    "# Analysis is written\n",
    "analysis = \"This code tracks the cloudiness as a percentage measured in a day at over 500 random locations, and the \\n\"\n",
    "analysis += \"location's latitude. This data is fairly random, and not much of value can be gotten from this particular graph.\"  \n",
    "\n",
    "\n",
    "# All outputs are output.\n",
    "plt.show()\n",
    "print(analysis)"
   ]
  },
  {
   "cell_type": "markdown",
   "metadata": {},
   "source": [
    "## Latitude vs. Wind Speed Plot"
   ]
  },
  {
   "cell_type": "code",
   "execution_count": 27,
   "metadata": {},
   "outputs": [
    {
     "data": {
      "image/png": "[encoded data removed]",
      "text/plain": [
       "<Figure size 432x288 with 1 Axes>"
      ]
     },
     "metadata": {
      "needs_background": "light"
     },
     "output_type": "display_data"
    },
    {
     "name": "stdout",
     "output_type": "stream",
     "text": [
      "This code tracks the wind speed measured in a day at over 500 random locations, and the location's latitude. \n",
      "Note that the highest wind speeds are measured highest near the same latitude as the highest temperature. \n",
      "As temperature gradients cause pressure waves which we feel as wind, this is not a surprise.  The hottest \n",
      "places may well have the most energetic wind to push elsewhere.\n"
     ]
    }
   ],
   "source": [
    "# The values being compared are saved as the string titles of the relevant columns of the dataframe so only 2 substitutions \n",
    "#    need to be made for any given graph.\n",
    "x_values = \"Latitude\"\n",
    "y_values = \"Wind Speed (mph)\"\n",
    "hemisphere = \"both\"\n",
    "\n",
    "# Makes scatter plot using function.\n",
    "make_scatter_plots(x_values, y_values, hemisphere)\n",
    "\n",
    "# Analysis is written\n",
    "analysis = \"This code tracks the wind speed measured in a day at over 500 random locations, and the location's latitude. \\n\"\n",
    "analysis += \"Note that the highest wind speeds are measured highest near the same latitude as the highest temperature. \\n\"\n",
    "analysis += \"As temperature gradients cause pressure waves which we feel as wind, this is not a surprise.  The hottest \\n\"\n",
    "analysis += \"places may well have the most energetic wind to push elsewhere.\"\n",
    "\n",
    "\n",
    "# All outputs are output.\n",
    "plt.show()\n",
    "print(analysis)"
   ]
  },
  {
   "cell_type": "markdown",
   "metadata": {},
   "source": [
    "## Linear Regression"
   ]
  },
  {
   "cell_type": "code",
   "execution_count": 28,
   "metadata": {},
   "outputs": [],
   "source": [
    "# Create Northern and Southern Hemisphere DataFrames\n",
    "northern_city_clean_df = clean_city_data.loc[clean_city_data[\"Latitude\"] >= 0]\n",
    "southern_city_clean_df = clean_city_data.loc[clean_city_data[\"Latitude\"] < 0]"
   ]
  },
  {
   "cell_type": "markdown",
   "metadata": {},
   "source": [
    "####  Northern Hemisphere - Max Temp vs. Latitude Linear Regression"
   ]
  },
  {
   "cell_type": "code",
   "execution_count": null,
   "metadata": {},
   "outputs": [],
   "source": []
  },
  {
   "cell_type": "markdown",
   "metadata": {},
   "source": [
    "####  Southern Hemisphere - Max Temp vs. Latitude Linear Regression"
   ]
  },
  {
   "cell_type": "code",
   "execution_count": null,
   "metadata": {},
   "outputs": [],
   "source": []
  },
  {
   "cell_type": "markdown",
   "metadata": {},
   "source": [
    "####  Northern Hemisphere - Humidity (%) vs. Latitude Linear Regression"
   ]
  },
  {
   "cell_type": "code",
   "execution_count": null,
   "metadata": {},
   "outputs": [],
   "source": []
  },
  {
   "cell_type": "markdown",
   "metadata": {},
   "source": [
    "####  Southern Hemisphere - Humidity (%) vs. Latitude Linear Regression"
   ]
  },
  {
   "cell_type": "code",
   "execution_count": null,
   "metadata": {},
   "outputs": [],
   "source": []
  },
  {
   "cell_type": "markdown",
   "metadata": {},
   "source": [
    "####  Northern Hemisphere - Cloudiness (%) vs. Latitude Linear Regression"
   ]
  },
  {
   "cell_type": "code",
   "execution_count": null,
   "metadata": {},
   "outputs": [],
   "source": []
  },
  {
   "cell_type": "markdown",
   "metadata": {},
   "source": [
    "####  Southern Hemisphere - Cloudiness (%) vs. Latitude Linear Regression"
   ]
  },
  {
   "cell_type": "code",
   "execution_count": null,
   "metadata": {},
   "outputs": [],
   "source": []
  },
  {
   "cell_type": "markdown",
   "metadata": {},
   "source": [
    "####  Northern Hemisphere - Wind Speed (mph) vs. Latitude Linear Regression"
   ]
  },
  {
   "cell_type": "code",
   "execution_count": null,
   "metadata": {},
   "outputs": [],
   "source": []
  },
  {
   "cell_type": "markdown",
   "metadata": {},
   "source": [
    "####  Southern Hemisphere - Wind Speed (mph) vs. Latitude Linear Regression"
   ]
  },
  {
   "cell_type": "code",
   "execution_count": null,
   "metadata": {},
   "outputs": [],
   "source": []
  },
  {
   "cell_type": "code",
   "execution_count": null,
   "metadata": {},
   "outputs": [],
   "source": []
  }
 ],
 "metadata": {
  "anaconda-cloud": {},
  "kernel_info": {
   "name": "python3"
  },
  "kernelspec": {
   "display_name": "Python [conda env:PythonData] *",
   "language": "python",
   "name": "conda-env-PythonData-py"
  },
  "language_info": {
   "codemirror_mode": {
    "name": "ipython",
    "version": 3
   },
   "file_extension": ".py",
   "mimetype": "text/x-python",
   "name": "python",
   "nbconvert_exporter": "python",
   "pygments_lexer": "ipython3",
   "version": "3.6.10"
  },
  "latex_envs": {
   "LaTeX_envs_menu_present": true,
   "autoclose": false,
   "autocomplete": true,
   "bibliofile": "biblio.bib",
   "cite_by": "apalike",
   "current_citInitial": 1,
   "eqLabelWithNumbers": true,
   "eqNumInitial": 1,
   "hotkeys": {
    "equation": "Ctrl-E",
    "itemize": "Ctrl-I"
   },
   "labels_anchors": false,
   "latex_user_defs": false,
   "report_style_numbering": false,
   "user_envs_cfg": false
  },
  "nteract": {
   "version": "0.12.3"
  }
 },
 "nbformat": 4,
 "nbformat_minor": 2
}
