{
 "cells": [
  {
   "cell_type": "markdown",
   "metadata": {},
   "source": [
    "# WeatherPy\n",
    "----\n",
    "\n",
    "#### Note\n",
    "* Instructions have been included for each segment. You do not have to follow them exactly, but they are included to help you think through the steps."
   ]
  },
  {
   "cell_type": "code",
   "execution_count": 25,
   "metadata": {
    "scrolled": true
   },
   "outputs": [],
   "source": [
    "# Dependencies and Setup\n",
    "import matplotlib.pyplot as plt\n",
    "import pandas as pd\n",
    "import numpy as np\n",
    "import requests\n",
    "import time\n",
    "from scipy.stats import linregress\n",
    "from pprint import pprint\n",
    "\n",
    "# Import API key\n",
    "from api_keys import weather_api_key\n",
    "\n",
    "# Incorporated citipy to determine city based on latitude and longitude\n",
    "from citipy import citipy\n",
    "\n",
    "# Output File (CSV)\n",
    "output_data_file = \"output_data/cities.csv\"\n",
    "\n",
    "# Range of latitudes and longitudes\n",
    "lat_range = (-90, 90)\n",
    "lng_range = (-180, 180)"
   ]
  },
  {
   "cell_type": "markdown",
   "metadata": {},
   "source": [
    "## Generate Cities List"
   ]
  },
  {
   "cell_type": "code",
   "execution_count": 26,
   "metadata": {},
   "outputs": [
    {
     "name": "stdout",
     "output_type": "stream",
     "text": [
      "There were 596 unique cities in the list.\n"
     ]
    }
   ],
   "source": [
    "# While loop ensures that the list of cities is always at least 500 unique cities. Defaults to true until code breaks.\n",
    "while True:\n",
    "    # List for holding lat_lngs and cities\n",
    "    lat_lngs = []\n",
    "    cities = []\n",
    "\n",
    "    # Create a set of random lat and lng combinations\n",
    "    lats = np.random.uniform(lat_range[0], lat_range[1], size=1500)\n",
    "    lngs = np.random.uniform(lng_range[0], lng_range[1], size=1500)\n",
    "    lat_lngs = zip(lats, lngs)\n",
    "\n",
    "    # Identify nearest city for each lat, lng combination\n",
    "    for lat_lng in lat_lngs:\n",
    "        city = citipy.nearest_city(lat_lng[0], lat_lng[1]).city_name\n",
    "    \n",
    "        # If the city is unique, then add it to a our cities list\n",
    "        if city not in cities:\n",
    "            cities.append(city)\n",
    "\n",
    "    # If statement confirms city count is sufficient, otherwise the loop is rerun.\n",
    "    if len(cities) >= 500:\n",
    "        print(f\"There were {len(cities)} unique cities in the list.\")\n",
    "        break\n",
    "    else:\n",
    "        print(f\"There were only {len(cities)} unique cities in the list. Rerunning list.\")\n",
    "        "
   ]
  },
  {
   "cell_type": "markdown",
   "metadata": {},
   "source": [
    "### Perform API Calls\n",
    "* Perform a weather check on each city using a series of successive API calls.\n",
    "* Include a print log of each city as it'sbeing processed (with the city number and city name).\n"
   ]
  },
  {
   "cell_type": "code",
   "execution_count": 27,
   "metadata": {},
   "outputs": [
    {
     "name": "stdout",
     "output_type": "stream",
     "text": [
      "Beginning Data Retrieval\n",
      "--------------------------------------\n",
      "City not found.  Skipping the city taolanaro\n",
      "Processing Record 1 | kodiak\n",
      "Processing Record 2 | ushuaia\n",
      "Processing Record 3 | busselton\n",
      "Processing Record 4 | bluff\n",
      "Processing Record 5 | dwarka\n",
      "Processing Record 6 | beringovskiy\n",
      "Processing Record 7 | new norfolk\n",
      "Processing Record 8 | saskylakh\n",
      "Processing Record 9 | hirara\n",
      "Processing Record 10 | yellowknife\n",
      "Processing Record 11 | tuktoyaktuk\n",
      "Processing Record 12 | palmer\n",
      "Processing Record 13 | nome\n",
      "Processing Record 14 | butaritari\n",
      "Processing Record 15 | cape town\n",
      "Processing Record 16 | oyama\n",
      "Processing Record 17 | datong\n",
      "Processing Record 18 | upernavik\n",
      "Processing Record 19 | yar-sale\n",
      "Processing Record 20 | comodoro rivadavia\n",
      "Processing Record 21 | plettenberg bay\n",
      "Processing Record 22 | rikitea\n",
      "Processing Record 23 | half moon bay\n",
      "Processing Record 24 | taksimo\n",
      "Processing Record 25 | atuona\n",
      "Processing Record 26 | mataura\n",
      "Processing Record 27 | lorengau\n",
      "Processing Record 28 | chokurdakh\n",
      "Processing Record 29 | avarua\n",
      "Processing Record 30 | longyearbyen\n",
      "Processing Record 31 | vaini\n",
      "Processing Record 32 | abu samrah\n",
      "Processing Record 33 | kapaa\n",
      "Processing Record 34 | bozoum\n",
      "Processing Record 35 | karratha\n",
      "Processing Record 36 | puerto ayora\n",
      "Processing Record 37 | aswan\n",
      "Processing Record 38 | pavino\n",
      "Processing Record 39 | uva\n",
      "Processing Record 40 | daru\n",
      "Processing Record 41 | muncar\n",
      "Processing Record 42 | ribeira grande\n",
      "Processing Record 43 | sechura\n",
      "Processing Record 44 | gat\n",
      "Processing Record 45 | peterhead\n",
      "Processing Record 46 | tura\n",
      "Processing Record 47 | barrhead\n",
      "Processing Record 48 | kaitangata\n",
      "Processing Record 49 | birao\n",
      "Processing Record 50 | saldanha\n",
      "Processing Record 51 | jalu\n",
      "Processing Record 52 | taoudenni\n",
      "Processing Record 53 | saint george\n",
      "Processing Record 54 | villablino\n",
      "Processing Record 55 | ambilobe\n",
      "Processing Record 56 | gazojak\n",
      "City not found.  Skipping the city barentsburg\n",
      "Processing Record 57 | ouegoa\n",
      "Processing Record 58 | moses lake\n",
      "Processing Record 59 | muli\n",
      "Processing Record 60 | carnarvon\n",
      "Processing Record 61 | mandalgovi\n",
      "Processing Record 62 | tazmalt\n",
      "Processing Record 63 | ngunguru\n",
      "Processing Record 64 | cayenne\n",
      "Processing Record 65 | hilo\n",
      "Processing Record 66 | mahebourg\n",
      "Processing Record 67 | bonthe\n",
      "Processing Record 68 | amahai\n",
      "Processing Record 69 | bredasdorp\n",
      "Processing Record 70 | malinovoye ozero\n",
      "Processing Record 71 | jamestown\n",
      "Processing Record 72 | cockburn town\n",
      "Processing Record 73 | cairns\n",
      "Processing Record 74 | belaya gora\n",
      "Processing Record 75 | avera\n",
      "Processing Record 76 | hobart\n",
      "Processing Record 77 | mitsamiouli\n",
      "Processing Record 78 | asau\n",
      "Processing Record 79 | skjervoy\n",
      "Processing Record 80 | aksu\n",
      "Processing Record 81 | marathon\n",
      "City not found.  Skipping the city kamenskoye\n",
      "Processing Record 82 | tasiilaq\n",
      "Processing Record 83 | torbay\n",
      "Processing Record 84 | albany\n",
      "Processing Record 85 | victoria\n",
      "Processing Record 86 | hamilton\n",
      "Processing Record 87 | pisco\n",
      "Processing Record 88 | da lat\n",
      "Processing Record 89 | komsomolskiy\n",
      "Processing Record 90 | hermanus\n",
      "Processing Record 91 | khandyga\n",
      "Processing Record 92 | nikolskoye\n",
      "Processing Record 93 | mount gambier\n",
      "Processing Record 94 | rovaniemi\n",
      "Processing Record 95 | vila do maio\n",
      "Processing Record 96 | barrow\n",
      "Processing Record 97 | coquimbo\n",
      "Processing Record 98 | manaus\n",
      "Processing Record 99 | whitehorse\n",
      "Processing Record 100 | ngaoundere\n",
      "Processing Record 101 | challapata\n",
      "Processing Record 102 | ilulissat\n",
      "Processing Record 103 | alofi\n",
      "Processing Record 104 | road town\n",
      "Processing Record 105 | srednekolymsk\n",
      "Processing Record 106 | moosburg\n",
      "Processing Record 107 | opuwo\n",
      "Processing Record 108 | punta arenas\n",
      "Processing Record 109 | guerrero negro\n",
      "Processing Record 110 | georgetown\n",
      "Processing Record 111 | ammokhorion\n",
      "Processing Record 112 | sarab\n",
      "Processing Record 113 | esperance\n",
      "City not found.  Skipping the city chaa-khol\n",
      "Processing Record 114 | general pico\n",
      "City not found.  Skipping the city illoqqortoormiut\n",
      "Processing Record 115 | akhmeta\n",
      "City not found.  Skipping the city amderma\n",
      "Processing Record 116 | martapura\n",
      "Processing Record 117 | zalantun\n",
      "Processing Record 118 | matagami\n",
      "Processing Record 119 | puerto narino\n",
      "City not found.  Skipping the city bargal\n",
      "Processing Record 120 | kendari\n",
      "Processing Record 121 | port elizabeth\n",
      "Processing Record 122 | port alfred\n",
      "Processing Record 123 | mareeba\n",
      "Processing Record 124 | faanui\n",
      "Processing Record 125 | leningradskiy\n",
      "Processing Record 126 | olafsvik\n",
      "Processing Record 127 | natal\n",
      "City not found.  Skipping the city grand river south east\n",
      "Processing Record 128 | shangzhi\n",
      "Processing Record 129 | zavitinsk\n",
      "Processing Record 130 | clyde river\n",
      "Processing Record 131 | akureyri\n",
      "City not found.  Skipping the city samusu\n",
      "Processing Record 132 | caravelas\n",
      "Processing Record 133 | salalah\n",
      "Processing Record 134 | madhipura\n",
      "Processing Record 135 | vao\n",
      "Processing Record 136 | san carlos de bariloche\n",
      "Processing Record 137 | kruisfontein\n",
      "Processing Record 138 | bendigo\n",
      "Processing Record 139 | bathsheba\n",
      "Processing Record 140 | jinka\n",
      "Processing Record 141 | concepcion\n",
      "Processing Record 142 | alto longa\n",
      "City not found.  Skipping the city khonuu\n",
      "Processing Record 143 | marand\n",
      "Processing Record 144 | itoman\n",
      "Processing Record 145 | margate\n",
      "Processing Record 146 | zachary\n",
      "City not found.  Skipping the city umzimvubu\n",
      "Processing Record 147 | naze\n",
      "City not found.  Skipping the city ziyamet\n",
      "Processing Record 148 | gravdal\n",
      "Processing Record 149 | haines junction\n",
      "Processing Record 150 | katsuura\n",
      "Processing Record 151 | wuwei\n",
      "Processing Record 152 | kolno\n",
      "Processing Record 153 | tacuati\n",
      "City not found.  Skipping the city tlahualilo\n",
      "Processing Record 154 | timbauba\n",
      "City not found.  Skipping the city belushya guba\n",
      "Processing Record 155 | treinta y tres\n",
      "Processing Record 156 | beloha\n",
      "Processing Record 157 | maputo\n"
     ]
    },
    {
     "ename": "KeyboardInterrupt",
     "evalue": "",
     "output_type": "error",
     "traceback": [
      "\u001b[1;31m---------------------------------------------------------------------------\u001b[0m",
      "\u001b[1;31mKeyboardInterrupt\u001b[0m                         Traceback (most recent call last)",
      "\u001b[1;32m<ipython-input-27-90619ca5c429>\u001b[0m in \u001b[0;36m<module>\u001b[1;34m\u001b[0m\n\u001b[0;32m     54\u001b[0m \u001b[1;33m\u001b[0m\u001b[0m\n\u001b[0;32m     55\u001b[0m     \u001b[1;31m# Sleeping at end of loop ensures program does not go over api limits.\u001b[0m\u001b[1;33m\u001b[0m\u001b[1;33m\u001b[0m\u001b[1;33m\u001b[0m\u001b[0m\n\u001b[1;32m---> 56\u001b[1;33m     \u001b[0mtime\u001b[0m\u001b[1;33m.\u001b[0m\u001b[0msleep\u001b[0m\u001b[1;33m(\u001b[0m\u001b[1;36m1\u001b[0m\u001b[1;33m)\u001b[0m\u001b[1;33m\u001b[0m\u001b[1;33m\u001b[0m\u001b[0m\n\u001b[0m",
      "\u001b[1;31mKeyboardInterrupt\u001b[0m: "
     ]
    }
   ],
   "source": [
    "# Perform API calls and print log of each city as calls are being made.\n",
    "\n",
    "# Set base url and initialize counting number.  Full url will follow that of the one below from API doc.\n",
    "#      api.openweathermap.org/data/2.5/weather?q={city name}&appid={your api key}\n",
    "base_url = \"http://api.openweathermap.org/data/2.5/weather\"\n",
    "counted_cities = 0\n",
    "\n",
    "# Initialize empty lists for relevant values.\n",
    "city_list = []\n",
    "lat_list = []\n",
    "lng_list = []\n",
    "max_temp_list = []\n",
    "humidity_list = []\n",
    "cloudiness_list = []\n",
    "wind_speed_list = []\n",
    "country_list = []\n",
    "date_list = []\n",
    "\n",
    "\n",
    "# Print for human eyes\n",
    "print(\"Beginning Data Retrieval\")\n",
    "print(\"--------------------------------------\")\n",
    "\n",
    "\n",
    "# for loop runs through all cities in cities array.\n",
    "\n",
    "for city in cities:\n",
    "\n",
    "    # try ensures that even if city is not in database, the loop continues.\n",
    "    # query_url is the url to grab data from api.  Response is where that data is stored.\n",
    "    try:\n",
    "        query_url = f\"{base_url}?q={city}&appid={weather_api_key}\"\n",
    "        response = requests.get(query_url).json()\n",
    "        \n",
    "        # All list appends append relevant data to relevant list.\n",
    "        city_list.append(response[\"name\"])\n",
    "        lat_list.append(response[\"coord\"][\"lat\"])\n",
    "        lng_list.append(response[\"coord\"][\"lon\"])\n",
    "        max_temp_list.append(response[\"main\"][\"temp_max\"])\n",
    "        humidity_list.append(response[\"main\"][\"humidity\"])\n",
    "        cloudiness_list.append(response[\"clouds\"][\"all\"])\n",
    "        wind_speed_list.append(response[\"wind\"][\"speed\"])\n",
    "        country_list.append(response[\"sys\"][\"country\"])\n",
    "        date_list.append(response[\"dt\"])\n",
    "        \n",
    "        # Counted cities is a variable solely for the human that must waste as a guideline for how many cities remain.\n",
    "        # Print the number of cities counted and the name of the city counted.\n",
    "        counted_cities += 1\n",
    "        print(f\"Processing Record {counted_cities} | {city}\")\n",
    "    \n",
    "    # If try fails, the except is triggered and the message states simply that the city is not found, then skips it.\n",
    "    except:\n",
    "        print(f\"City not found.  Skipping the city {city}\")\n",
    "        \n",
    "    # Sleeping at end of loop ensures program does not go over api limits.\n",
    "    time.sleep(1)"
   ]
  },
  {
   "cell_type": "markdown",
   "metadata": {},
   "source": [
    "### Convert Raw Data to DataFrame\n",
    "* Export the city data into a .csv.\n",
    "* Display the DataFrame"
   ]
  },
  {
   "cell_type": "code",
   "execution_count": null,
   "metadata": {},
   "outputs": [],
   "source": []
  },
  {
   "cell_type": "code",
   "execution_count": null,
   "metadata": {},
   "outputs": [],
   "source": []
  },
  {
   "cell_type": "markdown",
   "metadata": {},
   "source": [
    "## Inspect the data and remove the cities where the humidity > 100%.\n",
    "----\n",
    "Skip this step if there are no cities that have humidity > 100%. "
   ]
  },
  {
   "cell_type": "code",
   "execution_count": null,
   "metadata": {},
   "outputs": [],
   "source": []
  },
  {
   "cell_type": "code",
   "execution_count": null,
   "metadata": {},
   "outputs": [],
   "source": [
    "#  Get the indices of cities that have humidity over 100%.\n"
   ]
  },
  {
   "cell_type": "code",
   "execution_count": null,
   "metadata": {},
   "outputs": [],
   "source": [
    "# Make a new DataFrame equal to the city data to drop all humidity outliers by index.\n",
    "# Passing \"inplace=False\" will make a copy of the city_data DataFrame, which we call \"clean_city_data\".\n"
   ]
  },
  {
   "cell_type": "code",
   "execution_count": null,
   "metadata": {},
   "outputs": [],
   "source": [
    "# Extract relevant fields from the data frame\n",
    "\n",
    "\n",
    "# Export the City_Data into a csv\n"
   ]
  },
  {
   "cell_type": "markdown",
   "metadata": {},
   "source": [
    "## Plotting the Data\n",
    "* Use proper labeling of the plots using plot titles (including date of analysis) and axes labels.\n",
    "* Save the plotted figures as .pngs."
   ]
  },
  {
   "cell_type": "markdown",
   "metadata": {},
   "source": [
    "## Latitude vs. Temperature Plot"
   ]
  },
  {
   "cell_type": "code",
   "execution_count": null,
   "metadata": {
    "scrolled": true
   },
   "outputs": [],
   "source": []
  },
  {
   "cell_type": "markdown",
   "metadata": {},
   "source": [
    "## Latitude vs. Humidity Plot"
   ]
  },
  {
   "cell_type": "code",
   "execution_count": null,
   "metadata": {},
   "outputs": [],
   "source": []
  },
  {
   "cell_type": "markdown",
   "metadata": {},
   "source": [
    "## Latitude vs. Cloudiness Plot"
   ]
  },
  {
   "cell_type": "code",
   "execution_count": null,
   "metadata": {},
   "outputs": [],
   "source": []
  },
  {
   "cell_type": "markdown",
   "metadata": {},
   "source": [
    "## Latitude vs. Wind Speed Plot"
   ]
  },
  {
   "cell_type": "code",
   "execution_count": null,
   "metadata": {},
   "outputs": [],
   "source": []
  },
  {
   "cell_type": "markdown",
   "metadata": {},
   "source": [
    "## Linear Regression"
   ]
  },
  {
   "cell_type": "code",
   "execution_count": null,
   "metadata": {},
   "outputs": [],
   "source": [
    "# OPTIONAL: Create a function to create Linear Regression plots"
   ]
  },
  {
   "cell_type": "code",
   "execution_count": null,
   "metadata": {},
   "outputs": [],
   "source": [
    "# Create Northern and Southern Hemisphere DataFrames"
   ]
  },
  {
   "cell_type": "markdown",
   "metadata": {},
   "source": [
    "####  Northern Hemisphere - Max Temp vs. Latitude Linear Regression"
   ]
  },
  {
   "cell_type": "code",
   "execution_count": null,
   "metadata": {},
   "outputs": [],
   "source": []
  },
  {
   "cell_type": "markdown",
   "metadata": {},
   "source": [
    "####  Southern Hemisphere - Max Temp vs. Latitude Linear Regression"
   ]
  },
  {
   "cell_type": "code",
   "execution_count": null,
   "metadata": {},
   "outputs": [],
   "source": []
  },
  {
   "cell_type": "markdown",
   "metadata": {},
   "source": [
    "####  Northern Hemisphere - Humidity (%) vs. Latitude Linear Regression"
   ]
  },
  {
   "cell_type": "code",
   "execution_count": null,
   "metadata": {},
   "outputs": [],
   "source": []
  },
  {
   "cell_type": "markdown",
   "metadata": {},
   "source": [
    "####  Southern Hemisphere - Humidity (%) vs. Latitude Linear Regression"
   ]
  },
  {
   "cell_type": "code",
   "execution_count": null,
   "metadata": {},
   "outputs": [],
   "source": []
  },
  {
   "cell_type": "markdown",
   "metadata": {},
   "source": [
    "####  Northern Hemisphere - Cloudiness (%) vs. Latitude Linear Regression"
   ]
  },
  {
   "cell_type": "code",
   "execution_count": null,
   "metadata": {},
   "outputs": [],
   "source": []
  },
  {
   "cell_type": "markdown",
   "metadata": {},
   "source": [
    "####  Southern Hemisphere - Cloudiness (%) vs. Latitude Linear Regression"
   ]
  },
  {
   "cell_type": "code",
   "execution_count": null,
   "metadata": {},
   "outputs": [],
   "source": []
  },
  {
   "cell_type": "markdown",
   "metadata": {},
   "source": [
    "####  Northern Hemisphere - Wind Speed (mph) vs. Latitude Linear Regression"
   ]
  },
  {
   "cell_type": "code",
   "execution_count": null,
   "metadata": {},
   "outputs": [],
   "source": []
  },
  {
   "cell_type": "markdown",
   "metadata": {},
   "source": [
    "####  Southern Hemisphere - Wind Speed (mph) vs. Latitude Linear Regression"
   ]
  },
  {
   "cell_type": "code",
   "execution_count": null,
   "metadata": {},
   "outputs": [],
   "source": []
  },
  {
   "cell_type": "code",
   "execution_count": null,
   "metadata": {},
   "outputs": [],
   "source": []
  }
 ],
 "metadata": {
  "anaconda-cloud": {},
  "kernel_info": {
   "name": "python3"
  },
  "kernelspec": {
   "display_name": "Python [conda env:PythonData] *",
   "language": "python",
   "name": "conda-env-PythonData-py"
  },
  "language_info": {
   "codemirror_mode": {
    "name": "ipython",
    "version": 3
   },
   "file_extension": ".py",
   "mimetype": "text/x-python",
   "name": "python",
   "nbconvert_exporter": "python",
   "pygments_lexer": "ipython3",
   "version": "3.6.10"
  },
  "latex_envs": {
   "LaTeX_envs_menu_present": true,
   "autoclose": false,
   "autocomplete": true,
   "bibliofile": "biblio.bib",
   "cite_by": "apalike",
   "current_citInitial": 1,
   "eqLabelWithNumbers": true,
   "eqNumInitial": 1,
   "hotkeys": {
    "equation": "Ctrl-E",
    "itemize": "Ctrl-I"
   },
   "labels_anchors": false,
   "latex_user_defs": false,
   "report_style_numbering": false,
   "user_envs_cfg": false
  },
  "nteract": {
   "version": "0.12.3"
  }
 },
 "nbformat": 4,
 "nbformat_minor": 2
}
