{
 "cells": [
  {
   "cell_type": "markdown",
   "metadata": {},
   "source": [
    "# WeatherPy\n",
    "----\n",
    "\n",
    "#### Note\n",
    "* Instructions have been included for each segment. You do not have to follow them exactly, but they are included to help you think through the steps."
   ]
  },
  {
   "cell_type": "code",
   "execution_count": 1,
   "metadata": {
    "scrolled": true
   },
   "outputs": [],
   "source": [
    "# Dependencies and Setup\n",
    "import matplotlib.pyplot as plt\n",
    "import pandas as pd\n",
    "import numpy as np\n",
    "import requests\n",
    "import time\n",
    "from scipy.stats import linregress\n",
    "from pprint import pprint\n",
    "\n",
    "# Import API key\n",
    "from api_keys import weather_api_key\n",
    "\n",
    "# Incorporated citipy to determine city based on latitude and longitude\n",
    "from citipy import citipy\n",
    "\n",
    "# Output File (CSV)\n",
    "output_data_file = \"output_data/cities.csv\"\n",
    "\n",
    "# If running code from previous CSV output to avoid pinging API too many times, uncomment the second line.\n",
    "run_api = True\n",
    "#run_api = False\n",
    "\n",
    "# Range of latitudes and longitudes\n",
    "lat_range = (-90, 90)\n",
    "lng_range = (-180, 180)"
   ]
  },
  {
   "cell_type": "markdown",
   "metadata": {},
   "source": [
    "## Generate Cities List"
   ]
  },
  {
   "cell_type": "code",
   "execution_count": 2,
   "metadata": {},
   "outputs": [],
   "source": [
    "#If running api, run below code. Otherwise, skip whole cell.\n",
    "if run_api:\n",
    "\n",
    "    # While loop ensures that the list of cities is always at least 500 unique cities. Defaults to true until code breaks.\n",
    "    while True:\n",
    "        # List for holding lat_lngs and cities\n",
    "        lat_lngs = []\n",
    "        cities = []\n",
    "\n",
    "        # Create a set of random lat and lng combinations\n",
    "        lats = np.random.uniform(lat_range[0], lat_range[1], size=1500)\n",
    "        lngs = np.random.uniform(lng_range[0], lng_range[1], size=1500)\n",
    "        lat_lngs = zip(lats, lngs)\n",
    "\n",
    "        # Identify nearest city for each lat, lng combination\n",
    "        for lat_lng in lat_lngs:\n",
    "            city = citipy.nearest_city(lat_lng[0], lat_lng[1]).city_name\n",
    "    \n",
    "            # If the city is unique, then add it to a our cities list\n",
    "            if city not in cities:\n",
    "                cities.append(city)\n",
    "\n",
    "        # If statement confirms city count is sufficient, otherwise the loop is rerun.\n",
    "        if len(cities) >= 500:\n",
    "            print(f\"There were {len(cities)} unique cities in the list.\")\n",
    "            break\n",
    "        else:\n",
    "            print(f\"There were only {len(cities)} unique cities in the list. Rerunning list.\")\n",
    "        "
   ]
  },
  {
   "cell_type": "markdown",
   "metadata": {},
   "source": [
    "### Perform API Calls\n",
    "* Perform a weather check on each city using a series of successive API calls.\n",
    "* Include a print log of each city as it'sbeing processed (with the city number and city name).\n"
   ]
  },
  {
   "cell_type": "code",
   "execution_count": 3,
   "metadata": {},
   "outputs": [],
   "source": [
    "#If running api, run below code. Otherwise, skip whole cell.\n",
    "if run_api:\n",
    "\n",
    "    # Perform API calls and print log of each city as calls are being made.\n",
    "\n",
    "    # Set base url and initialize counting number.  Full url will follow that of the one below from API doc.\n",
    "    #      api.openweathermap.org/data/2.5/weather?q={city name}&appid={your api key}\n",
    "    base_url = \"http://api.openweathermap.org/data/2.5/weather\"\n",
    "    counted_cities = 0\n",
    "\n",
    "    # Initialize empty lists for relevant values.\n",
    "    city_list = []\n",
    "    lat_list = []\n",
    "    lng_list = []\n",
    "    max_temp_list = []\n",
    "    humidity_list = []\n",
    "    cloudiness_list = []\n",
    "    wind_speed_list = []\n",
    "    country_list = []\n",
    "    date_list = []\n",
    "\n",
    "\n",
    "    # Print for human eyes\n",
    "    print(\"Beginning Data Retrieval\")\n",
    "    print(\"--------------------------------------\")\n",
    "\n",
    "\n",
    "    # for loop runs through all cities in cities array.\n",
    "\n",
    "    for city in cities:\n",
    "\n",
    "        # try ensures that even if city is not in database, the loop continues.\n",
    "        # query_url is the url to grab data from api.  Response is where that data is stored.\n",
    "        try:\n",
    "            query_url = f\"{base_url}?q={city}&appid={weather_api_key}\"\n",
    "            response = requests.get(query_url).json()\n",
    "        \n",
    "            # All list appends append relevant data to relevant list.\n",
    "            city_list.append(response[\"name\"])\n",
    "            lat_list.append(response[\"coord\"][\"lat\"])\n",
    "            lng_list.append(response[\"coord\"][\"lon\"])\n",
    "            max_temp_list.append(response[\"main\"][\"temp_max\"])\n",
    "            humidity_list.append(response[\"main\"][\"humidity\"])\n",
    "            cloudiness_list.append(response[\"clouds\"][\"all\"])\n",
    "            wind_speed_list.append(response[\"wind\"][\"speed\"])\n",
    "            country_list.append(response[\"sys\"][\"country\"])\n",
    "            date_list.append(response[\"dt\"])\n",
    "        \n",
    "            # Counted cities is a variable solely for the human that must waste as a guideline for how many cities remain.\n",
    "            # Print the number of cities counted and the name of the city counted.\n",
    "            counted_cities += 1\n",
    "            print(f\"Processing Record {counted_cities} | {city}\")\n",
    "    \n",
    "        # If try fails, the except is triggered and the message states simply that the city is not found, then skips it.\n",
    "        except:\n",
    "            print(f\"City not found.  Skipping the city {city}\")"
   ]
  },
  {
   "cell_type": "markdown",
   "metadata": {},
   "source": [
    "### Convert Raw Data to DataFrame\n",
    "* Export the city data into a .csv.\n",
    "* Display the DataFrame"
   ]
  },
  {
   "cell_type": "code",
   "execution_count": 4,
   "metadata": {},
   "outputs": [],
   "source": [
    "#If running api, run below code.\n",
    "if run_api:\n",
    "\n",
    "    # Converting arrays to a dataframe\n",
    "    weather_df = pd.DataFrame({\"City\" : city_list,\n",
    "                               \"Latitude\" : lat_list,\n",
    "                               \"Longitude\" : lng_list,\n",
    "                               \"Maximum Temperature\" : max_temp_list,\n",
    "                               \"Humidity\" : humidity_list,\n",
    "                               \"Cloudiness\" : cloudiness_list,\n",
    "                               \"Wind Speed\" : wind_speed_list,\n",
    "                               \"Country\" : country_list,\n",
    "                               \"Date\" : date_list\n",
    "                              }\n",
    "                             )\n",
    "\n",
    "    # Exports dataframe to CSV file.\n",
    "    weather_df.to_csv(output_data_file, index=False)\n",
    "\n",
    "# If not running api, converts previous csv outout to weather dataframe.\n",
    "else:\n",
    "    weather_df = pd.read_csv(output_data_file)"
   ]
  },
  {
   "cell_type": "code",
   "execution_count": 5,
   "metadata": {
    "scrolled": true
   },
   "outputs": [
    {
     "data": {
      "text/html": [
       "<div>\n",
       "<style scoped>\n",
       "    .dataframe tbody tr th:only-of-type {\n",
       "        vertical-align: middle;\n",
       "    }\n",
       "\n",
       "    .dataframe tbody tr th {\n",
       "        vertical-align: top;\n",
       "    }\n",
       "\n",
       "    .dataframe thead th {\n",
       "        text-align: right;\n",
       "    }\n",
       "</style>\n",
       "<table border=\"1\" class=\"dataframe\">\n",
       "  <thead>\n",
       "    <tr style=\"text-align: right;\">\n",
       "      <th></th>\n",
       "      <th>City</th>\n",
       "      <th>Latitude</th>\n",
       "      <th>Longitude</th>\n",
       "      <th>Maximum Temperature</th>\n",
       "      <th>Humidity</th>\n",
       "      <th>Cloudiness</th>\n",
       "      <th>Wind Speed</th>\n",
       "      <th>Country</th>\n",
       "      <th>Date</th>\n",
       "    </tr>\n",
       "  </thead>\n",
       "  <tbody>\n",
       "    <tr>\n",
       "      <th>0</th>\n",
       "      <td>Yenagoa</td>\n",
       "      <td>4.92</td>\n",
       "      <td>6.26</td>\n",
       "      <td>296.77</td>\n",
       "      <td>94</td>\n",
       "      <td>100</td>\n",
       "      <td>1.71</td>\n",
       "      <td>NG</td>\n",
       "      <td>1595115697</td>\n",
       "    </tr>\n",
       "    <tr>\n",
       "      <th>1</th>\n",
       "      <td>Hermanus</td>\n",
       "      <td>-34.42</td>\n",
       "      <td>19.23</td>\n",
       "      <td>283.71</td>\n",
       "      <td>94</td>\n",
       "      <td>0</td>\n",
       "      <td>0.89</td>\n",
       "      <td>ZA</td>\n",
       "      <td>1595115698</td>\n",
       "    </tr>\n",
       "    <tr>\n",
       "      <th>2</th>\n",
       "      <td>Whitianga</td>\n",
       "      <td>-36.83</td>\n",
       "      <td>175.70</td>\n",
       "      <td>290.37</td>\n",
       "      <td>80</td>\n",
       "      <td>66</td>\n",
       "      <td>4.02</td>\n",
       "      <td>NZ</td>\n",
       "      <td>1595115698</td>\n",
       "    </tr>\n",
       "    <tr>\n",
       "      <th>3</th>\n",
       "      <td>Busselton</td>\n",
       "      <td>-33.65</td>\n",
       "      <td>115.33</td>\n",
       "      <td>284.26</td>\n",
       "      <td>80</td>\n",
       "      <td>72</td>\n",
       "      <td>1.70</td>\n",
       "      <td>AU</td>\n",
       "      <td>1595115698</td>\n",
       "    </tr>\n",
       "    <tr>\n",
       "      <th>4</th>\n",
       "      <td>Labuhan</td>\n",
       "      <td>-6.88</td>\n",
       "      <td>112.21</td>\n",
       "      <td>297.92</td>\n",
       "      <td>81</td>\n",
       "      <td>22</td>\n",
       "      <td>3.61</td>\n",
       "      <td>ID</td>\n",
       "      <td>1595115698</td>\n",
       "    </tr>\n",
       "  </tbody>\n",
       "</table>\n",
       "</div>"
      ],
      "text/plain": [
       "        City  Latitude  Longitude  Maximum Temperature  Humidity  Cloudiness  \\\n",
       "0    Yenagoa      4.92       6.26               296.77        94         100   \n",
       "1   Hermanus    -34.42      19.23               283.71        94           0   \n",
       "2  Whitianga    -36.83     175.70               290.37        80          66   \n",
       "3  Busselton    -33.65     115.33               284.26        80          72   \n",
       "4    Labuhan     -6.88     112.21               297.92        81          22   \n",
       "\n",
       "   Wind Speed Country        Date  \n",
       "0        1.71      NG  1595115697  \n",
       "1        0.89      ZA  1595115698  \n",
       "2        4.02      NZ  1595115698  \n",
       "3        1.70      AU  1595115698  \n",
       "4        3.61      ID  1595115698  "
      ]
     },
     "execution_count": 5,
     "metadata": {},
     "output_type": "execute_result"
    }
   ],
   "source": [
    "# Outputs dataframe\n",
    "weather_df.head()"
   ]
  },
  {
   "cell_type": "markdown",
   "metadata": {},
   "source": [
    "## Inspect the data and remove the cities where the humidity > 100%.\n",
    "----\n",
    "Skip this step if there are no cities that have humidity > 100%. "
   ]
  },
  {
   "cell_type": "code",
   "execution_count": 15,
   "metadata": {},
   "outputs": [],
   "source": [
    "# Humidity is defaulted to over 100.  This is checked and, if false, all below cells in this section are skipped and\n",
    "#    the data is assumed clean.\n",
    "humidity_over_100 = True\n",
    "if weather_df[\"Humidity\"].max()<=100:\n",
    "    humidity_over_100 = False\n",
    "    clean_city_data = weather_df"
   ]
  },
  {
   "cell_type": "code",
   "execution_count": 7,
   "metadata": {},
   "outputs": [],
   "source": [
    "# If humidity is not greater than 100, skip this cell\n",
    "if humidity_over_100:\n",
    "    #  Get the indices of cities that have humidity over 100%.\n",
    "    0"
   ]
  },
  {
   "cell_type": "code",
   "execution_count": 8,
   "metadata": {},
   "outputs": [],
   "source": [
    "# If humidity is not greater than 100, skip this cell\n",
    "if humidity_over_100:\n",
    "    # Make a new DataFrame equal to the city data to drop all humidity outliers by index.\n",
    "    # Passing \"inplace=False\" will make a copy of the city_data DataFrame, which we call \"clean_city_data\".\n",
    "\n",
    "    0"
   ]
  },
  {
   "cell_type": "code",
   "execution_count": 9,
   "metadata": {},
   "outputs": [],
   "source": [
    "# If humidity is not greater than 100, skip this cell\n",
    "if humidity_over_100:\n",
    "    \n",
    "    # Extract relevant fields from the data frame\n",
    "    0\n",
    "\n",
    "    # Export the City_Data into a csv\n"
   ]
  },
  {
   "cell_type": "markdown",
   "metadata": {},
   "source": [
    "## Plotting the Data\n",
    "* Use proper labeling of the plots using plot titles (including date of analysis) and axes labels.\n",
    "* Save the plotted figures as .pngs."
   ]
  },
  {
   "cell_type": "markdown",
   "metadata": {},
   "source": [
    "## Latitude vs. Temperature Plot"
   ]
  },
  {
   "cell_type": "code",
   "execution_count": null,
   "metadata": {
    "scrolled": true
   },
   "outputs": [],
   "source": []
  },
  {
   "cell_type": "markdown",
   "metadata": {},
   "source": [
    "## Latitude vs. Humidity Plot"
   ]
  },
  {
   "cell_type": "code",
   "execution_count": null,
   "metadata": {},
   "outputs": [],
   "source": []
  },
  {
   "cell_type": "markdown",
   "metadata": {},
   "source": [
    "## Latitude vs. Cloudiness Plot"
   ]
  },
  {
   "cell_type": "code",
   "execution_count": null,
   "metadata": {},
   "outputs": [],
   "source": []
  },
  {
   "cell_type": "markdown",
   "metadata": {},
   "source": [
    "## Latitude vs. Wind Speed Plot"
   ]
  },
  {
   "cell_type": "code",
   "execution_count": null,
   "metadata": {},
   "outputs": [],
   "source": []
  },
  {
   "cell_type": "markdown",
   "metadata": {},
   "source": [
    "## Linear Regression"
   ]
  },
  {
   "cell_type": "code",
   "execution_count": 10,
   "metadata": {},
   "outputs": [],
   "source": [
    "# OPTIONAL: Create a function to create Linear Regression plots"
   ]
  },
  {
   "cell_type": "code",
   "execution_count": 11,
   "metadata": {},
   "outputs": [],
   "source": [
    "# Create Northern and Southern Hemisphere DataFrames"
   ]
  },
  {
   "cell_type": "markdown",
   "metadata": {},
   "source": [
    "####  Northern Hemisphere - Max Temp vs. Latitude Linear Regression"
   ]
  },
  {
   "cell_type": "code",
   "execution_count": null,
   "metadata": {},
   "outputs": [],
   "source": []
  },
  {
   "cell_type": "markdown",
   "metadata": {},
   "source": [
    "####  Southern Hemisphere - Max Temp vs. Latitude Linear Regression"
   ]
  },
  {
   "cell_type": "code",
   "execution_count": null,
   "metadata": {},
   "outputs": [],
   "source": []
  },
  {
   "cell_type": "markdown",
   "metadata": {},
   "source": [
    "####  Northern Hemisphere - Humidity (%) vs. Latitude Linear Regression"
   ]
  },
  {
   "cell_type": "code",
   "execution_count": null,
   "metadata": {},
   "outputs": [],
   "source": []
  },
  {
   "cell_type": "markdown",
   "metadata": {},
   "source": [
    "####  Southern Hemisphere - Humidity (%) vs. Latitude Linear Regression"
   ]
  },
  {
   "cell_type": "code",
   "execution_count": null,
   "metadata": {},
   "outputs": [],
   "source": []
  },
  {
   "cell_type": "markdown",
   "metadata": {},
   "source": [
    "####  Northern Hemisphere - Cloudiness (%) vs. Latitude Linear Regression"
   ]
  },
  {
   "cell_type": "code",
   "execution_count": null,
   "metadata": {},
   "outputs": [],
   "source": []
  },
  {
   "cell_type": "markdown",
   "metadata": {},
   "source": [
    "####  Southern Hemisphere - Cloudiness (%) vs. Latitude Linear Regression"
   ]
  },
  {
   "cell_type": "code",
   "execution_count": null,
   "metadata": {},
   "outputs": [],
   "source": []
  },
  {
   "cell_type": "markdown",
   "metadata": {},
   "source": [
    "####  Northern Hemisphere - Wind Speed (mph) vs. Latitude Linear Regression"
   ]
  },
  {
   "cell_type": "code",
   "execution_count": null,
   "metadata": {},
   "outputs": [],
   "source": []
  },
  {
   "cell_type": "markdown",
   "metadata": {},
   "source": [
    "####  Southern Hemisphere - Wind Speed (mph) vs. Latitude Linear Regression"
   ]
  },
  {
   "cell_type": "code",
   "execution_count": null,
   "metadata": {},
   "outputs": [],
   "source": []
  },
  {
   "cell_type": "code",
   "execution_count": null,
   "metadata": {},
   "outputs": [],
   "source": []
  }
 ],
 "metadata": {
  "anaconda-cloud": {},
  "kernel_info": {
   "name": "python3"
  },
  "kernelspec": {
   "display_name": "Python [conda env:PythonData] *",
   "language": "python",
   "name": "conda-env-PythonData-py"
  },
  "language_info": {
   "codemirror_mode": {
    "name": "ipython",
    "version": 3
   },
   "file_extension": ".py",
   "mimetype": "text/x-python",
   "name": "python",
   "nbconvert_exporter": "python",
   "pygments_lexer": "ipython3",
   "version": "3.6.10"
  },
  "latex_envs": {
   "LaTeX_envs_menu_present": true,
   "autoclose": false,
   "autocomplete": true,
   "bibliofile": "biblio.bib",
   "cite_by": "apalike",
   "current_citInitial": 1,
   "eqLabelWithNumbers": true,
   "eqNumInitial": 1,
   "hotkeys": {
    "equation": "Ctrl-E",
    "itemize": "Ctrl-I"
   },
   "labels_anchors": false,
   "latex_user_defs": false,
   "report_style_numbering": false,
   "user_envs_cfg": false
  },
  "nteract": {
   "version": "0.12.3"
  }
 },
 "nbformat": 4,
 "nbformat_minor": 2
}
